{
 "cells": [
  {
   "cell_type": "code",
   "execution_count": null,
   "id": "c6cdbd91",
   "metadata": {},
   "outputs": [],
   "source": [
    "# TF-IDF\n",
    "import pandas as pd \n",
    "from sklearn.feature_extraction.text import TfidfVectorizer\n",
    "\n",
    "text_db = ['assertion, positive, present, assertion, negative, present, assertion, negative, past, assertion, negative, present, assertion, negative, present, assertion, negative, present, assertion, negative, past, assertion, negative, present, probability, positive, future',\n",
    "'assertion, negative, present, wish, positive, future, assertion, positive, future, assertion, negative, present, assertion, positive, present, assertion, negative, present, assertion, positive, past, assertion, positive, past, prompt, positive, future']\n",
    "#annotated verbs of clause 1 and clause 2 joined by adverb 2 in Stage II\n",
    "\n",
    "vec = TfidfVectorizer()\n",
    "tf_idf =  vec.fit_transform(text_db)\n",
    "\n",
    "from sklearn.metrics.pairwise import cosine_similarity\n",
    "cosine_sim = cosine_similarity(tf_idf, tf_idf)\n",
    "print(cosine_sim)"
   ]
  }
 ],
 "metadata": {
  "kernelspec": {
   "display_name": "Python 3 (ipykernel)",
   "language": "python",
   "name": "python3"
  },
  "language_info": {
   "codemirror_mode": {
    "name": "ipython",
    "version": 3
   },
   "file_extension": ".py",
   "mimetype": "text/x-python",
   "name": "python",
   "nbconvert_exporter": "python",
   "pygments_lexer": "ipython3",
   "version": "3.7.3"
  }
 },
 "nbformat": 4,
 "nbformat_minor": 5
}
